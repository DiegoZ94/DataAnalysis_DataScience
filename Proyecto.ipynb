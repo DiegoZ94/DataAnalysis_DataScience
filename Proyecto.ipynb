{
  "nbformat": 4,
  "nbformat_minor": 0,
  "metadata": {
    "kernelspec": {
      "display_name": "Python 3",
      "language": "python",
      "name": "python3"
    },
    "language_info": {
      "codemirror_mode": {
        "name": "ipython",
        "version": 3
      },
      "file_extension": ".py",
      "mimetype": "text/x-python",
      "name": "python",
      "nbconvert_exporter": "python",
      "pygments_lexer": "ipython3",
      "version": "3.8.5"
    },
    "colab": {
      "name": "Proyecto.ipynb",
      "provenance": [],
      "collapsed_sections": []
    }
  },
  "cells": [
    {
      "cell_type": "markdown",
      "metadata": {
        "id": "2cx4UzP0G4ud"
      },
      "source": [
        "## Reto 1: Bootstrap\n",
        "\n",
        "### 1. Objetivos:\n",
        "    - Practicar la aplicación del algoritmo de boostrap\n",
        "    - Practicar graficar los resultados del boostrap\n",
        " \n",
        "---\n",
        "    \n",
        "### 2. Desarrollo:"
      ]
    },
    {
      "cell_type": "markdown",
      "metadata": {
        "id": "sfvOlggqG4uj"
      },
      "source": [
        "En este Reto vamos a aplicar la técnica de bootstrap para explorar distribuciones muestrales de estadísticas. Para este Reto puedes elegir cualquiera de los datasets que vienen incluidos en este módulo. Ha llegado el momento de que te dejes guiar por tu curiosidad. Puedes ver una lista de todo lo que hay disponible [acá](../../Datasets/Readme.md).\n",
        "\n",
        "Elige un dataset que tenga alguna variable numérica que te parezca interesante. Ahora, vamos a realizar algunos análisis sobre esa variable. Recuerda escribir tu análisis de manera ordenada, ya que si lo deseas habrá oportunidad de presentar tus hallazgos al grupo. Lleva a cabo los siguientes pasos:\n",
        "\n",
        "1. Primero saca tus estimados de locación y dispersión.\n",
        "2. Después, grafica tu variable usando un histograma y un boxplot, para que tengas una idea más detallada de su distribución.\n",
        "3. Si consideras que hay valores atípicos, lidia con ellos de la manera que te parezca más adecuada.\n",
        "3. Ahora vamos a ver qué tanta incertidumbre y sesgo hay en tus hallazgos. Vamos a aplicar la técnica de bootstrap 3 veces:\n",
        "\n",
        "  a) Realiza 100 000 remuestreos, cada uno de 5 elementos. Obtén la medida estadística que te interese de cada muestra y guarda los resultados en una lista.\n",
        "  \n",
        "  b) Repite el mismo proceso, pero esta vez con remuestreos con longitud de 20% del total de los datos.\n",
        "  \n",
        "  c) Repite una vez más, pero esta vez cada nueva muestra tendrá una longitud de 90% de la original.\n",
        "  \n",
        "4. Grafica cada una de las listas resultantes en un histograma.\n",
        "5. Obtén la asimetría y curtosis de cada una y compáralas entre ellas. ¿Cuál es más similar a una distribución normal? ¿Qué diferencias tienen entre ellas?\n",
        "6. Comparte tus hallazgos con tus compañeros."
      ]
    },
    {
      "cell_type": "markdown",
      "metadata": {
        "id": "na0GwI3PR3p4"
      },
      "source": [
        "Sesgo dentro de los datos\n"
      ]
    },
    {
      "cell_type": "code",
      "metadata": {
        "id": "mP4rPedBG4uo"
      },
      "source": [
        "import pandas as pd\n",
        "import matplotlib.pyplot as plt\n",
        "import seaborn as sns"
      ],
      "execution_count": null,
      "outputs": []
    },
    {
      "cell_type": "code",
      "metadata": {
        "id": "84R6ZLooHp5R",
        "colab": {
          "base_uri": "https://localhost:8080/"
        },
        "outputId": "d6aa190b-bbfb-4bc4-9725-fce4881ce0d4"
      },
      "source": [
        "from google.colab import drive\n",
        "drive.mount('/content/drive')"
      ],
      "execution_count": null,
      "outputs": [
        {
          "output_type": "stream",
          "text": [
            "Drive already mounted at /content/drive; to attempt to forcibly remount, call drive.mount(\"/content/drive\", force_remount=True).\n"
          ],
          "name": "stdout"
        }
      ]
    },
    {
      "cell_type": "code",
      "metadata": {
        "id": "eDCezglAHBJv",
        "colab": {
          "base_uri": "https://localhost:8080/",
          "height": 620
        },
        "outputId": "a4bae536-c4f9-4dce-8335-3cd0a81fc792"
      },
      "source": [
        "df = pd.read_csv('/content/drive/MyDrive/ProyectoBEDU/cve.csv', index_col=0)\n",
        "\n",
        "df.head()"
      ],
      "execution_count": null,
      "outputs": [
        {
          "output_type": "execute_result",
          "data": {
            "text/html": [
              "<div>\n",
              "<style scoped>\n",
              "    .dataframe tbody tr th:only-of-type {\n",
              "        vertical-align: middle;\n",
              "    }\n",
              "\n",
              "    .dataframe tbody tr th {\n",
              "        vertical-align: top;\n",
              "    }\n",
              "\n",
              "    .dataframe thead th {\n",
              "        text-align: right;\n",
              "    }\n",
              "</style>\n",
              "<table border=\"1\" class=\"dataframe\">\n",
              "  <thead>\n",
              "    <tr style=\"text-align: right;\">\n",
              "      <th></th>\n",
              "      <th>mod_date</th>\n",
              "      <th>pub_date</th>\n",
              "      <th>cvss</th>\n",
              "      <th>cwe_code</th>\n",
              "      <th>cwe_name</th>\n",
              "      <th>summary</th>\n",
              "      <th>access_authentication</th>\n",
              "      <th>access_complexity</th>\n",
              "      <th>access_vector</th>\n",
              "      <th>impact_availability</th>\n",
              "      <th>impact_confidentiality</th>\n",
              "      <th>impact_integrity</th>\n",
              "    </tr>\n",
              "    <tr>\n",
              "      <th>id</th>\n",
              "      <th></th>\n",
              "      <th></th>\n",
              "      <th></th>\n",
              "      <th></th>\n",
              "      <th></th>\n",
              "      <th></th>\n",
              "      <th></th>\n",
              "      <th></th>\n",
              "      <th></th>\n",
              "      <th></th>\n",
              "      <th></th>\n",
              "      <th></th>\n",
              "    </tr>\n",
              "  </thead>\n",
              "  <tbody>\n",
              "    <tr>\n",
              "      <th>CVE-2019-16548</th>\n",
              "      <td>21/11/2019 15:15</td>\n",
              "      <td>21/11/2019 15:15</td>\n",
              "      <td>6.8</td>\n",
              "      <td>352</td>\n",
              "      <td>Cross-Site Request Forgery (CSRF)</td>\n",
              "      <td>A cross-site request forgery vulnerability in ...</td>\n",
              "      <td>NaN</td>\n",
              "      <td>NaN</td>\n",
              "      <td>NaN</td>\n",
              "      <td>NaN</td>\n",
              "      <td>NaN</td>\n",
              "      <td>NaN</td>\n",
              "    </tr>\n",
              "    <tr>\n",
              "      <th>CVE-2019-16547</th>\n",
              "      <td>21/11/2019 15:15</td>\n",
              "      <td>21/11/2019 15:15</td>\n",
              "      <td>4.0</td>\n",
              "      <td>732</td>\n",
              "      <td>Incorrect Permission Assignment for Critical ...</td>\n",
              "      <td>Missing permission checks in various API endpo...</td>\n",
              "      <td>NaN</td>\n",
              "      <td>NaN</td>\n",
              "      <td>NaN</td>\n",
              "      <td>NaN</td>\n",
              "      <td>NaN</td>\n",
              "      <td>NaN</td>\n",
              "    </tr>\n",
              "    <tr>\n",
              "      <th>CVE-2019-16546</th>\n",
              "      <td>21/11/2019 15:15</td>\n",
              "      <td>21/11/2019 15:15</td>\n",
              "      <td>4.3</td>\n",
              "      <td>639</td>\n",
              "      <td>Authorization Bypass Through User-Controlled Key</td>\n",
              "      <td>Jenkins Google Compute Engine Plugin 4.1.1 and...</td>\n",
              "      <td>NaN</td>\n",
              "      <td>NaN</td>\n",
              "      <td>NaN</td>\n",
              "      <td>NaN</td>\n",
              "      <td>NaN</td>\n",
              "      <td>NaN</td>\n",
              "    </tr>\n",
              "    <tr>\n",
              "      <th>CVE-2013-2092</th>\n",
              "      <td>20/11/2019 21:22</td>\n",
              "      <td>20/11/2019 21:15</td>\n",
              "      <td>4.3</td>\n",
              "      <td>79</td>\n",
              "      <td>Improper Neutralization of Input During Web P...</td>\n",
              "      <td>Cross-site Scripting (XSS) in Dolibarr ERP/CRM...</td>\n",
              "      <td>NaN</td>\n",
              "      <td>NaN</td>\n",
              "      <td>NaN</td>\n",
              "      <td>NaN</td>\n",
              "      <td>NaN</td>\n",
              "      <td>NaN</td>\n",
              "    </tr>\n",
              "    <tr>\n",
              "      <th>CVE-2013-2091</th>\n",
              "      <td>20/11/2019 20:15</td>\n",
              "      <td>20/11/2019 20:15</td>\n",
              "      <td>7.5</td>\n",
              "      <td>89</td>\n",
              "      <td>Improper Neutralization of Special Elements u...</td>\n",
              "      <td>SQL injection vulnerability in Dolibarr ERP/CR...</td>\n",
              "      <td>NaN</td>\n",
              "      <td>NaN</td>\n",
              "      <td>NaN</td>\n",
              "      <td>NaN</td>\n",
              "      <td>NaN</td>\n",
              "      <td>NaN</td>\n",
              "    </tr>\n",
              "  </tbody>\n",
              "</table>\n",
              "</div>"
            ],
            "text/plain": [
              "                        mod_date  ... impact_integrity\n",
              "id                                ...                 \n",
              "CVE-2019-16548  21/11/2019 15:15  ...              NaN\n",
              "CVE-2019-16547  21/11/2019 15:15  ...              NaN\n",
              "CVE-2019-16546  21/11/2019 15:15  ...              NaN\n",
              "CVE-2013-2092   20/11/2019 21:22  ...              NaN\n",
              "CVE-2013-2091   20/11/2019 20:15  ...              NaN\n",
              "\n",
              "[5 rows x 12 columns]"
            ]
          },
          "metadata": {
            "tags": []
          },
          "execution_count": 43
        }
      ]
    },
    {
      "cell_type": "code",
      "metadata": {
        "id": "KTeYasYZH3O6",
        "colab": {
          "base_uri": "https://localhost:8080/"
        },
        "outputId": "eb1baa2e-5af6-4bd4-b6d8-0aa68d92c50b"
      },
      "source": [
        "df['cvss'].sample(n=30, replace=False)"
      ],
      "execution_count": null,
      "outputs": [
        {
          "output_type": "execute_result",
          "data": {
            "text/plain": [
              "id\n",
              "CVE-2009-3816        4.3\n",
              "CVE-2011-0489        7.5\n",
              "CVE-2019-0548        5.0\n",
              "CVE-2015-2019        2.1\n",
              "CVE-2018-17416       6.5\n",
              "CVE-2013-6010        4.3\n",
              "CVE-2019-1543        5.8\n",
              "CVE-2017-1000215    10.0\n",
              "CVE-2013-1627        7.8\n",
              "CVE-2016-9129        5.0\n",
              "CVE-2016-7798        5.0\n",
              "CVE-2019-7096       10.0\n",
              "CVE-2010-4813        3.5\n",
              "CVE-2015-9249        7.5\n",
              "CVE-2006-0855        5.1\n",
              "CVE-2010-4298        7.5\n",
              "CVE-2017-18603       4.3\n",
              "CVE-2019-5807        6.8\n",
              "CVE-2009-1821        5.0\n",
              "CVE-2013-4107        4.3\n",
              "CVE-2009-2690        5.0\n",
              "CVE-2019-9951        7.5\n",
              "CVE-2019-11927       6.8\n",
              "CVE-2017-1100        3.5\n",
              "CVE-2016-3874        9.3\n",
              "CVE-2010-1879        9.3\n",
              "CVE-2017-7208        5.8\n",
              "CVE-2019-13470       7.5\n",
              "CVE-2019-0027        3.5\n",
              "CVE-2019-7957        5.0\n",
              "Name: cvss, dtype: float64"
            ]
          },
          "metadata": {
            "tags": []
          },
          "execution_count": 44
        }
      ]
    },
    {
      "cell_type": "code",
      "metadata": {
        "id": "0zfFf-tKIPWj",
        "colab": {
          "base_uri": "https://localhost:8080/"
        },
        "outputId": "30aff8af-30d7-4231-e31c-a4b3a0750486"
      },
      "source": [
        "df['cvss'].sample(frac=0.1, replace=True)"
      ],
      "execution_count": null,
      "outputs": [
        {
          "output_type": "execute_result",
          "data": {
            "text/plain": [
              "id\n",
              "CVE-2018-18767     1.9\n",
              "CVE-2006-1749      7.5\n",
              "CVE-2019-9241      5.0\n",
              "CVE-2010-1451      5.0\n",
              "CVE-2019-11587     4.3\n",
              "                  ... \n",
              "CVE-2019-12257     5.8\n",
              "CVE-2017-13707    10.0\n",
              "CVE-2019-4280      5.0\n",
              "CVE-2009-1136      9.3\n",
              "CVE-2014-0912      5.0\n",
              "Name: cvss, Length: 8966, dtype: float64"
            ]
          },
          "metadata": {
            "tags": []
          },
          "execution_count": 45
        }
      ]
    },
    {
      "cell_type": "code",
      "metadata": {
        "id": "dkDCULQ4IYv9"
      },
      "source": [
        "calis = df['cvss']\n",
        "\n",
        "means = []\n",
        "\n",
        "for i in range(100_000):\n",
        "    sample = calis.sample(n=50, replace=True)\n",
        "    means.append(sample.mean())\n",
        "    \n",
        "serie_means = pd.Series(means)"
      ],
      "execution_count": null,
      "outputs": []
    },
    {
      "cell_type": "code",
      "metadata": {
        "id": "3eevW2cNIyA2",
        "colab": {
          "base_uri": "https://localhost:8080/",
          "height": 369
        },
        "outputId": "76e4bc2a-2774-4384-cd09-002ad70a9fba"
      },
      "source": [
        "sns.displot(serie_means);"
      ],
      "execution_count": null,
      "outputs": [
        {
          "output_type": "display_data",
          "data": {
            "image/png": "[encoded data removed]",
            "text/plain": [
              "<Figure size 360x360 with 1 Axes>"
            ]
          },
          "metadata": {
            "tags": [],
            "needs_background": "light"
          }
        }
      ]
    },
    {
      "cell_type": "code",
      "metadata": {
        "id": "-W93LAUbI1Pi",
        "colab": {
          "base_uri": "https://localhost:8080/"
        },
        "outputId": "8a20a452-1668-4b2b-a4c5-31e8e45f7dda"
      },
      "source": [
        "serie_means.skew()"
      ],
      "execution_count": null,
      "outputs": [
        {
          "output_type": "execute_result",
          "data": {
            "text/plain": [
              "0.0364381710801014"
            ]
          },
          "metadata": {
            "tags": []
          },
          "execution_count": 48
        }
      ]
    },
    {
      "cell_type": "code",
      "metadata": {
        "id": "0lfLlEfzI5oJ",
        "colab": {
          "base_uri": "https://localhost:8080/"
        },
        "outputId": "707a57c8-e8ab-49af-8dfb-b39cf174dfcf"
      },
      "source": [
        "serie_means.kurtosis()"
      ],
      "execution_count": null,
      "outputs": [
        {
          "output_type": "execute_result",
          "data": {
            "text/plain": [
              "-0.003651748489537976"
            ]
          },
          "metadata": {
            "tags": []
          },
          "execution_count": 49
        }
      ]
    },
    {
      "cell_type": "markdown",
      "metadata": {
        "id": "on_SdDxuRqeU"
      },
      "source": [
        "***Error estandar e intervalos de confianza***"
      ]
    },
    {
      "cell_type": "code",
      "metadata": {
        "id": "5JavzbBVI_AI",
        "colab": {
          "base_uri": "https://localhost:8080/"
        },
        "outputId": "91964e83-c028-49fa-81d9-29a8d7fb78af"
      },
      "source": [
        "print(f'Error estandar: {serie_means.std()}')"
      ],
      "execution_count": null,
      "outputs": [
        {
          "output_type": "stream",
          "text": [
            "Error estandar: 0.2816228414140163\n"
          ],
          "name": "stdout"
        }
      ]
    },
    {
      "cell_type": "code",
      "metadata": {
        "colab": {
          "base_uri": "https://localhost:8080/"
        },
        "id": "eo_sq2mAQ7w6",
        "outputId": "ec7ad02d-8e7c-4e3f-d74d-7148cbff5aa6"
      },
      "source": [
        "print(f'Valor mínimo: {serie_means.min()}')\n",
        "print(f'Valor máximo: {serie_means.max()}')\n",
        "print(f'Rango: {serie_means.max() - serie_means.min()}')"
      ],
      "execution_count": null,
      "outputs": [
        {
          "output_type": "stream",
          "text": [
            "Valor mínimo: 4.8500000000000005\n",
            "Valor máximo: 7.172000000000002\n",
            "Rango: 2.322000000000002\n"
          ],
          "name": "stdout"
        }
      ]
    },
    {
      "cell_type": "code",
      "metadata": {
        "colab": {
          "base_uri": "https://localhost:8080/",
          "height": 265
        },
        "id": "CQM-l7yCRAoZ",
        "outputId": "7637cb72-6edd-4f4a-ca40-63eef7905b92"
      },
      "source": [
        "sns.boxplot(x=serie_means);"
      ],
      "execution_count": null,
      "outputs": [
        {
          "output_type": "display_data",
          "data": {
            "image/png": "[encoded data removed]",
            "text/plain": [
              "<Figure size 432x288 with 1 Axes>"
            ]
          },
          "metadata": {
            "tags": [],
            "needs_background": "light"
          }
        }
      ]
    },
    {
      "cell_type": "code",
      "metadata": {
        "id": "UOxuBk3FRLa_"
      },
      "source": [
        "limite_inferior = serie_means.quantile(0.025)\n",
        "limite_superior = serie_means.quantile(0.975)"
      ],
      "execution_count": null,
      "outputs": []
    },
    {
      "cell_type": "code",
      "metadata": {
        "colab": {
          "base_uri": "https://localhost:8080/"
        },
        "id": "JDysREiQRPnD",
        "outputId": "6c5ebe02-a68f-4841-f6d3-ad30d41294d7"
      },
      "source": [
        "print(f'Intervalo de 95% confianza de la media: {limite_inferior} < {calis.mean()} < {limite_superior}')"
      ],
      "execution_count": null,
      "outputs": [
        {
          "output_type": "stream",
          "text": [
            "Intervalo de 95% confianza de la media: 5.474000000000001 < 6.021428730758348 < 6.580000000000001\n"
          ],
          "name": "stdout"
        }
      ]
    },
    {
      "cell_type": "code",
      "metadata": {
        "colab": {
          "base_uri": "https://localhost:8080/"
        },
        "id": "0XTCmKOyRbtT",
        "outputId": "c82da1f7-52c1-4a15-ee84-8cf63dba971f"
      },
      "source": [
        "mean_of_intervals = ((calis.mean() - limite_inferior) + (limite_superior - calis.mean())) / 2\n",
        "\n",
        "print(f'Intervalo de 95% confianza de la media: {calis.mean()} +/- {mean_of_intervals}')"
      ],
      "execution_count": null,
      "outputs": [
        {
          "output_type": "stream",
          "text": [
            "Intervalo de 95% confianza de la media: 6.021428730758348 +/- 0.5529999999999999\n"
          ],
          "name": "stdout"
        }
      ]
    },
    {
      "cell_type": "code",
      "metadata": {
        "colab": {
          "base_uri": "https://localhost:8080/",
          "height": 369
        },
        "id": "s2Fw7OyfRkqB",
        "outputId": "f9b441c1-2b8c-4ba7-ce42-68890dbb882d"
      },
      "source": [
        "sns.displot(serie_means, kde=False)\n",
        "plt.axvline(limite_inferior)\n",
        "plt.axvline(limite_superior);"
      ],
      "execution_count": null,
      "outputs": [
        {
          "output_type": "display_data",
          "data": {
            "image/png": "[encoded data removed]",
            "text/plain": [
              "<Figure size 360x360 with 1 Axes>"
            ]
          },
          "metadata": {
            "tags": [],
            "needs_background": "light"
          }
        }
      ]
    },
    {
      "cell_type": "markdown",
      "metadata": {
        "id": "CC9f7NrhXVZQ"
      },
      "source": [
        "Entrenamiento y prueba"
      ]
    },
    {
      "cell_type": "code",
      "metadata": {
        "id": "reg5zjA_XdXY",
        "colab": {
          "base_uri": "https://localhost:8080/"
        },
        "outputId": "cbfcc987-5e5c-40dc-d7ce-587ef77c191d"
      },
      "source": [
        "df.isna().sum()"
      ],
      "execution_count": null,
      "outputs": [
        {
          "output_type": "execute_result",
          "data": {
            "text/plain": [
              "mod_date                    0\n",
              "pub_date                    0\n",
              "cvss                        0\n",
              "cwe_code                    0\n",
              "cwe_name                    0\n",
              "summary                     0\n",
              "access_authentication     884\n",
              "access_complexity         884\n",
              "access_vector             884\n",
              "impact_availability       884\n",
              "impact_confidentiality    884\n",
              "impact_integrity          884\n",
              "dtype: int64"
            ]
          },
          "metadata": {
            "tags": []
          },
          "execution_count": 57
        }
      ]
    },
    {
      "cell_type": "code",
      "metadata": {
        "id": "sxO46n_CXr6m"
      },
      "source": [
        "df = df.drop(columns=['access_authentication','access_complexity','access_vector','impact_availability','impact_confidentiality','impact_integrity'])"
      ],
      "execution_count": null,
      "outputs": []
    },
    {
      "cell_type": "code",
      "metadata": {
        "id": "JQJNVp_rYTP9"
      },
      "source": [
        "X = df[['cwe_code']]\n",
        "y = df['cvss']"
      ],
      "execution_count": null,
      "outputs": []
    },
    {
      "cell_type": "code",
      "metadata": {
        "id": "1SjtHP6HYo14"
      },
      "source": [
        "X_training, X_test, y_training, y_test = train_test_split(X, y, test_size=0.3, shuffle=True)"
      ],
      "execution_count": null,
      "outputs": []
    },
    {
      "cell_type": "code",
      "metadata": {
        "id": "nGNDcS7_Yr6M"
      },
      "source": [
        "from sklearn.linear_model import LinearRegression"
      ],
      "execution_count": null,
      "outputs": []
    },
    {
      "cell_type": "code",
      "metadata": {
        "colab": {
          "base_uri": "https://localhost:8080/"
        },
        "id": "88BlPh3NYvNY",
        "outputId": "af1a2152-f466-48af-e25d-eecfbe0b1d1b"
      },
      "source": [
        "lr = LinearRegression()\n",
        "lr.fit(X_training, y_training)"
      ],
      "execution_count": null,
      "outputs": [
        {
          "output_type": "execute_result",
          "data": {
            "text/plain": [
              "LinearRegression(copy_X=True, fit_intercept=True, n_jobs=None, normalize=False)"
            ]
          },
          "metadata": {
            "tags": []
          },
          "execution_count": 64
        }
      ]
    },
    {
      "cell_type": "code",
      "metadata": {
        "colab": {
          "base_uri": "https://localhost:8080/"
        },
        "id": "phUqj7SAY6OK",
        "outputId": "022eafac-9145-4690-cea5-b1a8960e68fc"
      },
      "source": [
        "lr.score(X_test, y_test)"
      ],
      "execution_count": null,
      "outputs": [
        {
          "output_type": "execute_result",
          "data": {
            "text/plain": [
              "-2.2606049329354505e-05"
            ]
          },
          "metadata": {
            "tags": []
          },
          "execution_count": 65
        }
      ]
    },
    {
      "cell_type": "code",
      "metadata": {
        "colab": {
          "base_uri": "https://localhost:8080/"
        },
        "id": "9LWTiU_CY_Ap",
        "outputId": "286cfdb8-0292-46e4-dfec-11d581c65ce0"
      },
      "source": [
        "lr_2 = LinearRegression()\n",
        "lr_2.fit(X, y)"
      ],
      "execution_count": null,
      "outputs": [
        {
          "output_type": "execute_result",
          "data": {
            "text/plain": [
              "LinearRegression(copy_X=True, fit_intercept=True, n_jobs=None, normalize=False)"
            ]
          },
          "metadata": {
            "tags": []
          },
          "execution_count": 66
        }
      ]
    },
    {
      "cell_type": "code",
      "metadata": {
        "colab": {
          "base_uri": "https://localhost:8080/"
        },
        "id": "SH_l1199aR-2",
        "outputId": "7294e386-7dec-456b-c00d-c6907f34f678"
      },
      "source": [
        "lr_2.score(X, y)"
      ],
      "execution_count": null,
      "outputs": [
        {
          "output_type": "execute_result",
          "data": {
            "text/plain": [
              "7.879729586024453e-05"
            ]
          },
          "metadata": {
            "tags": []
          },
          "execution_count": 67
        }
      ]
    },
    {
      "cell_type": "markdown",
      "metadata": {
        "id": "c1DRgaAJot9v"
      },
      "source": [
        "Tree Map\n"
      ]
    },
    {
      "cell_type": "code",
      "metadata": {
        "id": "YnRHjA4pow0V"
      },
      "source": [
        "import plotly.express as px\n",
        "import pandas as pd"
      ],
      "execution_count": null,
      "outputs": []
    },
    {
      "cell_type": "code",
      "metadata": {
        "colab": {
          "base_uri": "https://localhost:8080/",
          "height": 205
        },
        "id": "eue3bLNfow7t",
        "outputId": "8f9c5df8-9fc7-4e5f-eac6-a6c5a9fa59cd"
      },
      "source": [
        "df_grouped = df.groupby('cwe_name')[['cwe_code', 'summary']].max().reset_index()\n",
        "df_grouped.head()"
      ],
      "execution_count": null,
      "outputs": [
        {
          "output_type": "execute_result",
          "data": {
            "text/html": [
              "<div>\n",
              "<style scoped>\n",
              "    .dataframe tbody tr th:only-of-type {\n",
              "        vertical-align: middle;\n",
              "    }\n",
              "\n",
              "    .dataframe tbody tr th {\n",
              "        vertical-align: top;\n",
              "    }\n",
              "\n",
              "    .dataframe thead th {\n",
              "        text-align: right;\n",
              "    }\n",
              "</style>\n",
              "<table border=\"1\" class=\"dataframe\">\n",
              "  <thead>\n",
              "    <tr style=\"text-align: right;\">\n",
              "      <th></th>\n",
              "      <th>cwe_name</th>\n",
              "      <th>cwe_code</th>\n",
              "      <th>summary</th>\n",
              "    </tr>\n",
              "  </thead>\n",
              "  <tbody>\n",
              "    <tr>\n",
              "      <th>0</th>\n",
              "      <td>7PK - Code Quality</td>\n",
              "      <td>398</td>\n",
              "      <td>NUUO CMS all versions 3.1 and prior, The appli...</td>\n",
              "    </tr>\n",
              "    <tr>\n",
              "      <th>1</th>\n",
              "      <td>7PK - Errors</td>\n",
              "      <td>388</td>\n",
              "      <td>mailboxd in Zimbra Collaboration Suite 8.8 bef...</td>\n",
              "    </tr>\n",
              "    <tr>\n",
              "      <th>2</th>\n",
              "      <td>7PK - Security Features</td>\n",
              "      <td>254</td>\n",
              "      <td>xtrlock through 2.10 does not block multitouch...</td>\n",
              "    </tr>\n",
              "    <tr>\n",
              "      <th>3</th>\n",
              "      <td>7PK - Time and State</td>\n",
              "      <td>361</td>\n",
              "      <td>python-jose before 1.3.2 allows attackers to h...</td>\n",
              "    </tr>\n",
              "    <tr>\n",
              "      <th>4</th>\n",
              "      <td>Access of Resource Using Incompatible Type ('...</td>\n",
              "      <td>843</td>\n",
              "      <td>WordPress before 5.2.4 does not properly consi...</td>\n",
              "    </tr>\n",
              "  </tbody>\n",
              "</table>\n",
              "</div>"
            ],
            "text/plain": [
              "                                            cwe_name  ...                                            summary\n",
              "0                                 7PK - Code Quality  ...  NUUO CMS all versions 3.1 and prior, The appli...\n",
              "1                                       7PK - Errors  ...  mailboxd in Zimbra Collaboration Suite 8.8 bef...\n",
              "2                            7PK - Security Features  ...  xtrlock through 2.10 does not block multitouch...\n",
              "3                               7PK - Time and State  ...  python-jose before 1.3.2 allows attackers to h...\n",
              "4   Access of Resource Using Incompatible Type ('...  ...  WordPress before 5.2.4 does not properly consi...\n",
              "\n",
              "[5 rows x 3 columns]"
            ]
          },
          "metadata": {
            "tags": []
          },
          "execution_count": 69
        }
      ]
    },
    {
      "cell_type": "code",
      "metadata": {
        "id": "nntUKOCYKCmq"
      },
      "source": [
        ""
      ],
      "execution_count": null,
      "outputs": []
    },
    {
      "cell_type": "markdown",
      "metadata": {
        "id": "atNkSl-sKH2K"
      },
      "source": [
        "DATA SET COMPLEMENTARIO #1"
      ]
    },
    {
      "cell_type": "code",
      "metadata": {
        "id": "_la9Kb4iKMmU"
      },
      "source": [
        "import pandas as pd\n",
        "import matplotlib.pyplot as plt\n",
        "import seaborn as sns"
      ],
      "execution_count": null,
      "outputs": []
    },
    {
      "cell_type": "code",
      "metadata": {
        "colab": {
          "base_uri": "https://localhost:8080/",
          "height": 237
        },
        "id": "9Y8QhVEtKUMv",
        "outputId": "9555cfbc-b6b6-463a-f7a1-7f2c8e1532ec"
      },
      "source": [
        "df_auth = pd.read_csv('/content/drive/MyDrive/ProyectoBEDU/auth.csv', index_col=0)\n",
        "\n",
        "df_auth.head()"
      ],
      "execution_count": null,
      "outputs": [
        {
          "output_type": "execute_result",
          "data": {
            "text/html": [
              "<div>\n",
              "<style scoped>\n",
              "    .dataframe tbody tr th:only-of-type {\n",
              "        vertical-align: middle;\n",
              "    }\n",
              "\n",
              "    .dataframe tbody tr th {\n",
              "        vertical-align: top;\n",
              "    }\n",
              "\n",
              "    .dataframe thead th {\n",
              "        text-align: right;\n",
              "    }\n",
              "</style>\n",
              "<table border=\"1\" class=\"dataframe\">\n",
              "  <thead>\n",
              "    <tr style=\"text-align: right;\">\n",
              "      <th></th>\n",
              "      <th>IP address</th>\n",
              "      <th>route</th>\n",
              "      <th>Type</th>\n",
              "    </tr>\n",
              "    <tr>\n",
              "      <th>Monthday</th>\n",
              "      <th></th>\n",
              "      <th></th>\n",
              "      <th></th>\n",
              "    </tr>\n",
              "  </thead>\n",
              "  <tbody>\n",
              "    <tr>\n",
              "      <th>Nov30</th>\n",
              "      <td>ip-172-31-27-153</td>\n",
              "      <td>CRON[21882]:</td>\n",
              "      <td>pam_unix(cron:session): session closed for use...</td>\n",
              "    </tr>\n",
              "    <tr>\n",
              "      <th>Nov30</th>\n",
              "      <td>ip-172-31-27-153</td>\n",
              "      <td>CRON[22087]:</td>\n",
              "      <td>pam_unix(cron:session): session opened for use...</td>\n",
              "    </tr>\n",
              "    <tr>\n",
              "      <th>Nov30</th>\n",
              "      <td>ip-172-31-27-153</td>\n",
              "      <td>CRON[22087]:</td>\n",
              "      <td>pam_unix(cron:session): session closed for use...</td>\n",
              "    </tr>\n",
              "    <tr>\n",
              "      <th>Nov30</th>\n",
              "      <td>ip-172-31-27-153</td>\n",
              "      <td>sshd[22116]:</td>\n",
              "      <td>Connection closed by 122.225.103.87 [preauth]</td>\n",
              "    </tr>\n",
              "    <tr>\n",
              "      <th>Nov30</th>\n",
              "      <td>ip-172-31-27-153</td>\n",
              "      <td>sshd[22118]:</td>\n",
              "      <td>Connection closed by 122.225.103.87 [preauth]</td>\n",
              "    </tr>\n",
              "  </tbody>\n",
              "</table>\n",
              "</div>"
            ],
            "text/plain": [
              "                IP address  ...                                               Type\n",
              "Monthday                    ...                                                   \n",
              "Nov30     ip-172-31-27-153  ...  pam_unix(cron:session): session closed for use...\n",
              "Nov30     ip-172-31-27-153  ...  pam_unix(cron:session): session opened for use...\n",
              "Nov30     ip-172-31-27-153  ...  pam_unix(cron:session): session closed for use...\n",
              "Nov30     ip-172-31-27-153  ...      Connection closed by 122.225.103.87 [preauth]\n",
              "Nov30     ip-172-31-27-153  ...      Connection closed by 122.225.103.87 [preauth]\n",
              "\n",
              "[5 rows x 3 columns]"
            ]
          },
          "metadata": {
            "tags": []
          },
          "execution_count": 73
        }
      ]
    },
    {
      "cell_type": "code",
      "metadata": {
        "colab": {
          "base_uri": "https://localhost:8080/"
        },
        "id": "DxK0Cug0Kkc1",
        "outputId": "dbe81a46-3877-4c16-a2f4-87788f7f8c34"
      },
      "source": [
        "df_auth['route'].sample(n=50, replace=False)"
      ],
      "execution_count": null,
      "outputs": [
        {
          "output_type": "execute_result",
          "data": {
            "text/plain": [
              "Monthday\n",
              "Dec6     sshd[18589]:\n",
              "Dec2     sshd[24235]:\n",
              "Dec6     sshd[27902]:\n",
              "Dec3     sshd[28376]:\n",
              "Dec2     sshd[32220]:\n",
              "Dec19    sshd[31166]:\n",
              "Dec2     sshd[16837]:\n",
              "Dec2      sshd[6796]:\n",
              "Dec2     sshd[15735]:\n",
              "Dec23     sshd[8525]:\n",
              "Dec26    sshd[21816]:\n",
              "Dec2      sshd[6249]:\n",
              "Dec2     sshd[20739]:\n",
              "Dec9      sshd[2718]:\n",
              "Dec2      sshd[6289]:\n",
              "Dec12    sshd[14376]:\n",
              "Dec12    sshd[11890]:\n",
              "Dec23     sshd[7361]:\n",
              "Dec6      sshd[8470]:\n",
              "Dec2     sshd[30618]:\n",
              "Dec19    sshd[30420]:\n",
              "Dec2     sshd[22454]:\n",
              "Dec26    sshd[18777]:\n",
              "Dec2     sshd[17929]:\n",
              "Dec1     sshd[24877]:\n",
              "Dec24    sshd[13699]:\n",
              "Dec23    sshd[11695]:\n",
              "Dec31     sshd[7224]:\n",
              "Dec23    sshd[10898]:\n",
              "Dec25    sshd[17373]:\n",
              "Dec6     sshd[23489]:\n",
              "Dec14    sshd[20032]:\n",
              "Dec2      sshd[5587]:\n",
              "Dec6     sshd[22794]:\n",
              "Dec2      sshd[8412]:\n",
              "Dec2      sshd[6024]:\n",
              "Nov30    sshd[22987]:\n",
              "Dec6     sshd[10797]:\n",
              "Dec2     sshd[21396]:\n",
              "Dec23    sshd[11774]:\n",
              "Dec10     sshd[4683]:\n",
              "Dec2      sshd[7981]:\n",
              "Dec29    sshd[903]: i\n",
              "Dec6     sshd[20195]:\n",
              "Dec30     sshd[5888]:\n",
              "Dec11     sshd[9643]:\n",
              "Dec30     sshd[5213]:\n",
              "Dec2     sshd[32108]:\n",
              "Dec12    sshd[12077]:\n",
              "Dec26    sshd[21880]:\n",
              "Name: route, dtype: object"
            ]
          },
          "metadata": {
            "tags": []
          },
          "execution_count": 74
        }
      ]
    },
    {
      "cell_type": "code",
      "metadata": {
        "colab": {
          "base_uri": "https://localhost:8080/"
        },
        "id": "kJJXjgDPKvlA",
        "outputId": "640adce1-3af9-468b-b320-f43cbbcb2c29"
      },
      "source": [
        "df_auth['route'].sample(frac=0.1, replace=True)"
      ],
      "execution_count": null,
      "outputs": [
        {
          "output_type": "execute_result",
          "data": {
            "text/plain": [
              "Monthday\n",
              "Dec6      sshd[8932]:\n",
              "Dec2      sshd[8619]:\n",
              "Dec19    sshd[31178]:\n",
              "Dec2     sshd[11160]:\n",
              "Dec6      sshd[6930]:\n",
              "             ...     \n",
              "Dec2      sshd[1012]:\n",
              "Dec23    sshd[11053]:\n",
              "Dec26    sshd[25188]:\n",
              "Dec3     sshd[28629]:\n",
              "Dec17    sshd[25834]:\n",
              "Name: route, Length: 8684, dtype: object"
            ]
          },
          "metadata": {
            "tags": []
          },
          "execution_count": 75
        }
      ]
    }
  ]
}